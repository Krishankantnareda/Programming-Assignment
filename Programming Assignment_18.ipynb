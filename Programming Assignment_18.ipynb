{
 "cells": [
  {
   "cell_type": "code",
   "execution_count": 70,
   "id": "1922ed08",
   "metadata": {},
   "outputs": [
    {
     "name": "stdout",
     "output_type": "stream",
     "text": [
      "enter the range 1: 2\n",
      "enter the range 2: 2\n",
      "enter the int1\n",
      "enter the int2\n",
      "enter the stringj\n",
      "enter the stringk\n"
     ]
    },
    {
     "data": {
      "text/plain": [
       "[1, 2]"
      ]
     },
     "execution_count": 70,
     "metadata": {},
     "output_type": "execute_result"
    }
   ],
   "source": [
    "#1-\n",
    "def Filter_list(l):\n",
    "    for i in l:\n",
    "        \n",
    "        if type(i) == int:\n",
    "            \n",
    "            q.append(i)\n",
    "    return q\n",
    "            \n",
    "       \n",
    "            \n",
    "l=[]\n",
    "q = []\n",
    "n = int(input(\"enter the range 1: \"))\n",
    "o = int(input(\"enter the range 2: \"))\n",
    "for j in range(n):\n",
    "    a  = int(input(\"enter the int\"))\n",
    "    l.append(a)\n",
    "for k in range(o):\n",
    "    \n",
    "    b  = input(\"enter the string\")\n",
    "    l.append(b)\n",
    "\n",
    "z = Filter_list(l)     \n",
    "q\n",
    "   \n",
    "    \n",
    "    "
   ]
  },
  {
   "cell_type": "code",
   "execution_count": 71,
   "id": "5297c5c8",
   "metadata": {},
   "outputs": [
    {
     "name": "stdout",
     "output_type": "stream",
     "text": [
      "enter the stringhasd hHJJJ xjj\n",
      "JJX jjjhH DSAH\n"
     ]
    }
   ],
   "source": [
    "#2-\n",
    "def case(k):\n",
    "    global p\n",
    "    for i in k:\n",
    "        if(i.isupper()):\n",
    "          \n",
    "            p = p+ i.lower()\n",
    "        else:\n",
    "            p = p+i.upper()\n",
    "    return p\n",
    "            \n",
    "\n",
    "        \n",
    "n = input(\"enter the string\")\n",
    "k = n[::-1]\n",
    "k\n",
    "p =\"\"\n",
    "\n",
    "f = case(k)\n",
    "print(f)"
   ]
  },
  {
   "cell_type": "code",
   "execution_count": 72,
   "id": "28e7c50d",
   "metadata": {},
   "outputs": [
    {
     "name": "stdout",
     "output_type": "stream",
     "text": [
      "[2, 3, 4, 5, 6]\n",
      "1\n",
      "7\n"
     ]
    }
   ],
   "source": [
    "#3-\n",
    "l =[1,2,3,4,5,6,7]\n",
    "first,*middle,last = l\n",
    "print(middle)\n",
    "print(first)\n",
    "print(last)"
   ]
  },
  {
   "cell_type": "code",
   "execution_count": 73,
   "id": "36d8c694",
   "metadata": {},
   "outputs": [
    {
     "name": "stdout",
     "output_type": "stream",
     "text": [
      "enter a number6\n",
      "720\n"
     ]
    }
   ],
   "source": [
    "#4-\n",
    "n =int(input(\"enter a number\"))\n",
    "def fact(n):\n",
    "    \n",
    "    if n == 0:\n",
    "        return 1\n",
    "    else:\n",
    "        \n",
    "        \n",
    "        return n*fact(n-1)\n",
    "print(fact(n))"
   ]
  },
  {
   "cell_type": "code",
   "execution_count": null,
   "id": "634fdc6c",
   "metadata": {},
   "outputs": [],
   "source": [
    "#5-\n",
    "\n",
    "m  = int(input(\"enter the last number\"))\n",
    "l=[]\n",
    "l\n",
    "k =[]\n",
    "for i in range(4):\n",
    "    n = int(input(\"enter the number\"))\n",
    "    l.append(n)\n",
    "\n",
    "x = (l,m)\n",
    "\n",
    "for j in l:\n",
    "    if j == m:\n",
    "        a =l.index(j)\n",
    "        \n",
    "        b =l.pop(a)\n",
    "        l.append(b)\n",
    "for z in l:\n",
    "    k.append(z)\n",
    "k.append(m)\n",
    "k\n",
    "           \n",
    "        "
   ]
  }
 ],
 "metadata": {
  "kernelspec": {
   "display_name": "Python 3 (ipykernel)",
   "language": "python",
   "name": "python3"
  },
  "language_info": {
   "codemirror_mode": {
    "name": "ipython",
    "version": 3
   },
   "file_extension": ".py",
   "mimetype": "text/x-python",
   "name": "python",
   "nbconvert_exporter": "python",
   "pygments_lexer": "ipython3",
   "version": "3.9.7"
  }
 },
 "nbformat": 4,
 "nbformat_minor": 5
}
