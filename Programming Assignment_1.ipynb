{
 "cells": [
  {
   "cell_type": "raw",
   "id": "96d822f9-830a-44d4-a3e1-e72e32a6cd11",
   "metadata": {},
   "source": [
    "1. Write a Python program to print \"Hello Python\"?"
   ]
  },
  {
   "cell_type": "code",
   "execution_count": 6,
   "id": "1c1b277d-bd72-4128-b6d8-0b586f637629",
   "metadata": {},
   "outputs": [
    {
     "name": "stdout",
     "output_type": "stream",
     "text": [
      "Hello Python\n"
     ]
    }
   ],
   "source": [
    "st = \"Hello Python\"\n",
    "print(st)"
   ]
  },
  {
   "cell_type": "raw",
   "id": "c8ca1468-91d6-4987-9672-38e9b7e298b8",
   "metadata": {},
   "source": [
    "2. Write a Python program to do arithmetical operations addition and division.?"
   ]
  },
  {
   "cell_type": "code",
   "execution_count": 7,
   "id": "b3760f77-6827-4b76-8b8f-8d5bb123fb9c",
   "metadata": {},
   "outputs": [
    {
     "name": "stdout",
     "output_type": "stream",
     "text": [
      "7\n",
      "12\n"
     ]
    }
   ],
   "source": [
    "a = 4\n",
    "b = 3\n",
    "print(a+b)\n",
    "print(a*b)"
   ]
  },
  {
   "cell_type": "raw",
   "id": "cb9100d8-effe-4099-be01-86e2c9eb8795",
   "metadata": {},
   "source": [
    "3. Write a Python program to find the area of a triangle?"
   ]
  },
  {
   "cell_type": "code",
   "execution_count": 9,
   "id": "92be6322-4bf1-4b4a-baf7-d85b44f0777a",
   "metadata": {},
   "outputs": [
    {
     "name": "stdout",
     "output_type": "stream",
     "text": [
      "The area of the triangle is 7.48\n"
     ]
    }
   ],
   "source": [
    "# Python Program to find the area of triangle\n",
    "a = 3\n",
    "b = 6\n",
    "c = 5\n",
    "# calculate the semi-perimeter\n",
    "s = (a + b + c) / 2\n",
    "# calculate the area\n",
    "area = (s*(s-a)*(s-b)*(s-c)) ** 0.5\n",
    "print('The area of the triangle is %0.2f' %area)"
   ]
  },
  {
   "cell_type": "raw",
   "id": "6ac95308-1e17-4856-a9b3-035d0cc0b2a3",
   "metadata": {},
   "source": [
    "4. Write a Python program to swap two variables?"
   ]
  },
  {
   "cell_type": "code",
   "execution_count": 11,
   "id": "8b0e4796-4788-4782-a0cf-c3a2ad90bb52",
   "metadata": {},
   "outputs": [
    {
     "name": "stdout",
     "output_type": "stream",
     "text": [
      "The value of x after swapping: 10\n",
      "The value of y after swapping: 5\n"
     ]
    }
   ],
   "source": [
    "# Python program to swap two variables\n",
    "x = 5\n",
    "y = 10\n",
    "temp = x # tem = 5\n",
    "x = y  # x = 10\n",
    "y = temp # y = 5\n",
    "\n",
    "print('The value of x after swapping: {}'.format(x))\n",
    "print('The value of y after swapping: {}'.format(y))"
   ]
  },
  {
   "cell_type": "raw",
   "id": "38ec5bfc-bdfa-4079-adcc-e6a3b7429d73",
   "metadata": {},
   "source": [
    "5. Write a Python program to generate a random number?"
   ]
  }
 ],
 "metadata": {
  "kernelspec": {
   "display_name": "Python 3 (ipykernel)",
   "language": "python",
   "name": "python3"
  },
  "language_info": {
   "codemirror_mode": {
    "name": "ipython",
    "version": 3
   },
   "file_extension": ".py",
   "mimetype": "text/x-python",
   "name": "python",
   "nbconvert_exporter": "python",
   "pygments_lexer": "ipython3",
   "version": "3.10.6"
  }
 },
 "nbformat": 4,
 "nbformat_minor": 5
}
