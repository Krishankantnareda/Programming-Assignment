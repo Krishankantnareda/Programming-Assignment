{
 "cells": [
  {
   "cell_type": "code",
   "execution_count": 4,
   "id": "d634eb31",
   "metadata": {},
   "outputs": [
    {
     "data": {
      "text/plain": [
       "30"
      ]
     },
     "execution_count": 4,
     "metadata": {},
     "output_type": "execute_result"
    }
   ],
   "source": [
    "\n",
    "def divisibles(a,b,c):\n",
    "    sum =0\n",
    "    for i in range(a,b+1):\n",
    "        if i%c ==0:\n",
    "            sum = sum +i\n",
    "    return sum\n",
    "divisibles(1,10,2)"
   ]
  },
  {
   "cell_type": "code",
   "execution_count": 12,
   "id": "8d1e3582",
   "metadata": {},
   "outputs": [
    {
     "data": {
      "text/plain": [
       "False"
      ]
     },
     "execution_count": 12,
     "metadata": {},
     "output_type": "execute_result"
    }
   ],
   "source": [
    "# we will use eval function\n",
    "# syntax - eval(\" pass a string\")\n",
    "def fun(x):\n",
    "    a = eval(x)\n",
    "    return a\n",
    "\n",
    "fun(\"3<5<2\")    \n",
    "    \n",
    "\n",
    "    \n",
    "    "
   ]
  },
  {
   "cell_type": "code",
   "execution_count": 26,
   "id": "8bf6cf7e",
   "metadata": {},
   "outputs": [
    {
     "name": "stdout",
     "output_type": "stream",
     "text": [
      "enter the stringhello how r u\n"
     ]
    },
    {
     "data": {
      "text/plain": [
       "'h#ll# h#w r #'"
      ]
     },
     "execution_count": 26,
     "metadata": {},
     "output_type": "execute_result"
    }
   ],
   "source": [
    "\n",
    "def vowel(words,char):\n",
    "    for i in vowels:\n",
    "        words = words.replace(i,char)\n",
    "    return words\n",
    "vowels = 'aeiou'\n",
    "cha='#'\n",
    "words = input(\"enter the string\")\n",
    "\n",
    "vowel(words,char)   \n",
    "        "
   ]
  },
  {
   "cell_type": "code",
   "execution_count": 4,
   "id": "088ee7d4",
   "metadata": {},
   "outputs": [
    {
     "data": {
      "text/plain": [
       "2432902008176640000"
      ]
     },
     "execution_count": 4,
     "metadata": {},
     "output_type": "execute_result"
    }
   ],
   "source": [
    "def fact(n):\n",
    "    if n ==0 :\n",
    "        return 1\n",
    "    else:\n",
    "        return n*fact(n-1)\n",
    "        \n",
    "    \n",
    "   \n",
    "n = 20\n",
    "fact(n)"
   ]
  },
  {
   "cell_type": "code",
   "execution_count": null,
   "id": "0247f398",
   "metadata": {},
   "outputs": [],
   "source": [
    "\n",
    "def hammingDist(str1, str2):\n",
    "    i = 0\n",
    "    count = 0\n",
    "    while(i < len(str1)):\n",
    "        \n",
    "        if(str1[i] != str2[i]):\n",
    "            count += 1\n",
    "            i += 1\n",
    "    return count\n",
    "\n",
    "\n",
    "str1 = \"geekspractice\"\n",
    "str2 = \"nerdspractise\"\n",
    "\n",
    "\n",
    "print(hammingDist(str1, str2))\n",
    "\n",
    "\n",
    "                "
   ]
  },
  {
   "cell_type": "code",
   "execution_count": null,
   "id": "bfe54841",
   "metadata": {},
   "outputs": [],
   "source": []
  }
 ],
 "metadata": {
  "kernelspec": {
   "display_name": "Python 3 (ipykernel)",
   "language": "python",
   "name": "python3"
  },
  "language_info": {
   "codemirror_mode": {
    "name": "ipython",
    "version": 3
   },
   "file_extension": ".py",
   "mimetype": "text/x-python",
   "name": "python",
   "nbconvert_exporter": "python",
   "pygments_lexer": "ipython3",
   "version": "3.9.7"
  }
 },
 "nbformat": 4,
 "nbformat_minor": 5
}
