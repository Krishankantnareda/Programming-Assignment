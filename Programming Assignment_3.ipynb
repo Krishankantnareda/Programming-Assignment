{
 "cells": [
  {
   "cell_type": "raw",
   "id": "ffa54af8-91cb-480b-9dd6-310f45bdf823",
   "metadata": {},
   "source": [
    "1. Write a Python Program to Check if a Number is Positive, Negative or Zero?"
   ]
  },
  {
   "cell_type": "code",
   "execution_count": 6,
   "id": "4a906722-5f2e-4d5f-a24e-0cb0ffff7fd4",
   "metadata": {},
   "outputs": [
    {
     "name": "stdin",
     "output_type": "stream",
     "text": [
      "Enter an Number :  2.3\n"
     ]
    },
    {
     "name": "stdout",
     "output_type": "stream",
     "text": [
      "This 2.3 is Positive\n"
     ]
    }
   ],
   "source": [
    "inp = float(input(\"Enter an Number : \"))\n",
    "# checking wether this number is Positive , Negative, Zero\n",
    "if inp>0:\n",
    "    print(f\"This {inp} is Positive\")\n",
    "elif inp==0:\n",
    "    print(\"This Number is Zero\")\n",
    "else:\n",
    "    print(f\"This number{inp} is Negative\")"
   ]
  },
  {
   "cell_type": "raw",
   "id": "e72406fa-e80f-4940-989e-e80c7452b1d3",
   "metadata": {},
   "source": [
    "2. Write a Python Program to Check if a Number is Odd or Even?"
   ]
  },
  {
   "cell_type": "code",
   "execution_count": 11,
   "id": "0bb33488-ab31-46be-9a91-174df354206b",
   "metadata": {},
   "outputs": [
    {
     "name": "stdin",
     "output_type": "stream",
     "text": [
      "Enter an Number:  33\n"
     ]
    },
    {
     "name": "stdout",
     "output_type": "stream",
     "text": [
      "This is odd number\n"
     ]
    }
   ],
   "source": [
    "num = float(input(\"Enter an Number: \"))\n",
    "if num%2==1:\n",
    "    print(\"This is odd number\")\n",
    "else:\n",
    "    print(\"this is Even number\")"
   ]
  },
  {
   "cell_type": "raw",
   "id": "f66fb6fb-b2a5-4204-b9e3-796a0c60f135",
   "metadata": {},
   "source": [
    "3. Write a Python Program to Check Leap Year?"
   ]
  },
  {
   "cell_type": "markdown",
   "id": "d4c12a43-289d-4e7e-b9fc-aaa05842d5f6",
   "metadata": {},
   "source": [
    "A leap year is exactly divisible by 4 except for century years (years ending with 00). The century year is a leap year only if it is perfectly divisible by 400. For example,"
   ]
  },
  {
   "cell_type": "code",
   "execution_count": 19,
   "id": "5ec511b4-bbb9-49e7-bfa9-023ded450de5",
   "metadata": {},
   "outputs": [
    {
     "name": "stdin",
     "output_type": "stream",
     "text": [
      "Enter a Year:  2400\n"
     ]
    },
    {
     "name": "stdout",
     "output_type": "stream",
     "text": [
      "2400 is a leap year\n"
     ]
    }
   ],
   "source": [
    "year = int(input( \"Enter a Year: \"))\n",
    "\n",
    "if (year % 400 == 0) and (year % 100 == 0):\n",
    "    print(\"{0} is a leap year\".format(year))\n",
    "\n",
    "# not divided by 100 means not a century year\n",
    "# year divided by 4 is a leap year\n",
    "elif (year % 4 ==0) and (year % 100 != 0):\n",
    "    print(\"{0} is a leap year\".format(year))\n",
    "\n",
    "# if not divided by both 400 (century year) and 4 (not century year)\n",
    "# year is not leap year\n",
    "else:\n",
    "    print(\"{0} is not a leap year\".format(year))"
   ]
  },
  {
   "cell_type": "raw",
   "id": "2c13aae1-ff77-4808-9f11-3f98140ec283",
   "metadata": {},
   "source": [
    "4. Write a Python Program to Check Prime Number?"
   ]
  },
  {
   "cell_type": "code",
   "execution_count": 36,
   "id": "d4be4861-deaa-443a-b862-7fd3b6fc009d",
   "metadata": {},
   "outputs": [
    {
     "name": "stdin",
     "output_type": "stream",
     "text": [
      "Enter a number :  6\n"
     ]
    },
    {
     "name": "stdout",
     "output_type": "stream",
     "text": [
      "6 is NOT Prime number\n"
     ]
    }
   ],
   "source": [
    "num = int(input(\"Enter a number : \"))\n",
    "flag = False\n",
    "if num== 1:\n",
    "    print(f\"{num} is not a prime number\")\n",
    "elif num>1:\n",
    "    for i in range(2,num):\n",
    "        if num%i == 0:\n",
    "            flag = True\n",
    "            break\n",
    "    if (flag == True):\n",
    "        print(f\"{num} is NOT Prime number\")\n",
    "    else:\n",
    "        print(f\"{num} is  prime Number\")"
   ]
  },
  {
   "cell_type": "raw",
   "id": "c836351b-a8cb-45cf-b2bb-e6a4d326a481",
   "metadata": {},
   "source": [
    "5. Write a Python Program to Print all Prime Numbers in an Interval of 1-10000?"
   ]
  },
  {
   "cell_type": "code",
   "execution_count": 40,
   "id": "09268824-7795-48cc-a860-0bdfcb02d27b",
   "metadata": {},
   "outputs": [
    {
     "name": "stdin",
     "output_type": "stream",
     "text": [
      "Enter a num 1\n",
      "Enter a Upper range 100\n"
     ]
    },
    {
     "name": "stdout",
     "output_type": "stream",
     "text": [
      "Prime numbers between 1 and 100 are:\n",
      "2\n",
      "3\n",
      "5\n",
      "7\n",
      "11\n",
      "13\n",
      "17\n",
      "19\n",
      "23\n",
      "29\n",
      "31\n",
      "37\n",
      "41\n",
      "43\n",
      "47\n",
      "53\n",
      "59\n",
      "61\n",
      "67\n",
      "71\n",
      "73\n",
      "79\n",
      "83\n",
      "89\n",
      "97\n"
     ]
    }
   ],
   "source": [
    "# Take the Interval\n",
    "Lower = int(input(\"Enter a num\"))\n",
    "Upper = int(input(\"Enter a Upper range\"))\n",
    "print(\"Prime numbers between\", Lower, \"and\", Upper, \"are:\")\n",
    "\n",
    "for num in range(Lower,Upper+1):\n",
    "    if num>1:\n",
    "        for i in range(2,num):\n",
    "            if num%i == 0:\n",
    "                \n",
    "                break\n",
    "        else :\n",
    "            print(num)\n",
    "                \n",
    "         "
   ]
  },
  {
   "cell_type": "code",
   "execution_count": null,
   "id": "46f12d97-466e-4067-8059-bc3f18f26e98",
   "metadata": {},
   "outputs": [],
   "source": []
  }
 ],
 "metadata": {
  "kernelspec": {
   "display_name": "Python 3 (ipykernel)",
   "language": "python",
   "name": "python3"
  },
  "language_info": {
   "codemirror_mode": {
    "name": "ipython",
    "version": 3
   },
   "file_extension": ".py",
   "mimetype": "text/x-python",
   "name": "python",
   "nbconvert_exporter": "python",
   "pygments_lexer": "ipython3",
   "version": "3.10.6"
  }
 },
 "nbformat": 4,
 "nbformat_minor": 5
}
