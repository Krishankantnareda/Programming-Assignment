{
 "cells": [
  {
   "cell_type": "code",
   "execution_count": 14,
   "id": "a926d7b9",
   "metadata": {},
   "outputs": [
    {
     "name": "stdout",
     "output_type": "stream",
     "text": [
      "enter the stringhello\n"
     ]
    },
    {
     "data": {
      "text/plain": [
       "'hheelllloo'"
      ]
     },
     "execution_count": 14,
     "metadata": {},
     "output_type": "execute_result"
    }
   ],
   "source": [
    "#1-\n",
    "l=[]\n",
    "n = input(\"enter the string\")\n",
    "\n",
    "def double_char(n):\n",
    "    for i in n:\n",
    "        l.append(i+i)\n",
    "    s =\"\"\n",
    "    s =s.join(l)\n",
    "    return s\n",
    "double_char(n)"
   ]
  },
  {
   "cell_type": "code",
   "execution_count": 17,
   "id": "98159841",
   "metadata": {},
   "outputs": [
    {
     "data": {
      "text/plain": [
       "'bollen expected'"
      ]
     },
     "execution_count": 17,
     "metadata": {},
     "output_type": "execute_result"
    }
   ],
   "source": [
    "#2-\n",
    "def reverse(n):\n",
    "    if n == True:\n",
    "        return False\n",
    "    else:\n",
    "        return \"bollen expected\"\n",
    "n = \"hello\"\n",
    "reverse(n)"
   ]
  },
  {
   "cell_type": "code",
   "execution_count": 27,
   "id": "a8b2d473",
   "metadata": {},
   "outputs": [
    {
     "data": {
      "text/plain": [
       "[1, 3, 5]"
      ]
     },
     "execution_count": 27,
     "metadata": {},
     "output_type": "execute_result"
    }
   ],
   "source": [
    "#4-\n",
    "n = \"eDaBiT\"\n",
    "l =[]\n",
    "k=[]\n",
    "for i in n:\n",
    "    l.append(i)\n",
    "    if i.isupper():\n",
    "        a = l.index(i)\n",
    "        k.append(a)\n",
    "        \n",
    "        \n",
    "k"
   ]
  },
  {
   "cell_type": "code",
   "execution_count": 11,
   "id": "5205a053",
   "metadata": {},
   "outputs": [
    {
     "name": "stdout",
     "output_type": "stream",
     "text": [
      "enter the fold8\n"
     ]
    },
    {
     "data": {
      "text/plain": [
       "0.008"
      ]
     },
     "execution_count": 11,
     "metadata": {},
     "output_type": "execute_result"
    }
   ],
   "source": [
    "#3-\n",
    "# SO BASICALLY WE NEED TO MULTIPLY BY 2 i.e 1 FOLD = 2mm * 0.5 = 1mm now convert hat 1mm to m i.e 0.001m\n",
    "# for eg -   2FOLD = 2mm * 2 * 0.5 = 2mm == 0.002m\n",
    "# for 4 fold - 2mm * 4 * 0.5 = 4mm == 0.004m\n",
    "def thickness(n):\n",
    "    m = n * 2 * 0.5\n",
    "    m = m/1000\n",
    "    return m\n",
    "\n",
    "n = float(input(\"enter the fold\"))\n",
    "thickness(n)\n"
   ]
  },
  {
   "cell_type": "code",
   "execution_count": 34,
   "id": "895122d4",
   "metadata": {},
   "outputs": [
    {
     "name": "stdout",
     "output_type": "stream",
     "text": [
      "enter the number10\n"
     ]
    },
    {
     "data": {
      "text/plain": [
       "[2, 4, 6, 8, 10]"
      ]
     },
     "execution_count": 34,
     "metadata": {},
     "output_type": "execute_result"
    }
   ],
   "source": [
    "#5- \n",
    "def even(n):\n",
    "    return   [i for i in range(1,n+1) if i%2 ==0] \n",
    "    \n",
    "  \n",
    "    \n",
    "n = int(input(\"enter the number\"))\n",
    "even(n)\n",
    "\n",
    "\n",
    "   \n",
    "    \n"
   ]
  },
  {
   "cell_type": "code",
   "execution_count": null,
   "id": "c052cab0",
   "metadata": {},
   "outputs": [],
   "source": []
  }
 ],
 "metadata": {
  "kernelspec": {
   "display_name": "Python 3 (ipykernel)",
   "language": "python",
   "name": "python3"
  },
  "language_info": {
   "codemirror_mode": {
    "name": "ipython",
    "version": 3
   },
   "file_extension": ".py",
   "mimetype": "text/x-python",
   "name": "python",
   "nbconvert_exporter": "python",
   "pygments_lexer": "ipython3",
   "version": "3.9.7"
  }
 },
 "nbformat": 4,
 "nbformat_minor": 5
}
