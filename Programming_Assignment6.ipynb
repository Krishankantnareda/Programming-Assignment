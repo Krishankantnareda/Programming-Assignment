{
 "cells": [
  {
   "cell_type": "raw",
   "id": "b18bb1d7-a568-4904-a0c0-229b6558d726",
   "metadata": {},
   "source": [
    "Write a Python Program to Display Fibonacci Sequence Using Recursion?"
   ]
  },
  {
   "cell_type": "code",
   "execution_count": 2,
   "id": "95b6905c-6ccd-484e-adac-354101b49262",
   "metadata": {},
   "outputs": [
    {
     "name": "stdout",
     "output_type": "stream",
     "text": [
      "Fibonacci sequence:\n",
      "0\n",
      "1\n",
      "1\n",
      "2\n",
      "3\n",
      "5\n",
      "8\n",
      "13\n",
      "21\n",
      "34\n"
     ]
    }
   ],
   "source": [
    "# Python program to display the Fibonacci sequence using recursion\n",
    "\n",
    "def recur_fibo(n):\n",
    "   if n <= 1:\n",
    "       return n\n",
    "   else:\n",
    "       return(recur_fibo(n-1) + recur_fibo(n-2))\n",
    "\n",
    "nterms = 10\n",
    "\n",
    "if nterms <= 0:\n",
    "   print(\"Please enter a positive integer\")\n",
    "else:\n",
    "   print(\"Fibonacci sequence:\")\n",
    "   for i in range(nterms):\n",
    "       print(recur_fibo(i))"
   ]
  },
  {
   "cell_type": "raw",
   "id": "0d781772-19d5-4017-b394-90d6f8f2ef5e",
   "metadata": {},
   "source": [
    "Write a Python Program to Find Factorial of Number Using Recursion?"
   ]
  },
  {
   "cell_type": "code",
   "execution_count": 3,
   "id": "1f1d0570-e317-41ef-81b6-dd1bb660d34c",
   "metadata": {},
   "outputs": [
    {
     "name": "stdout",
     "output_type": "stream",
     "text": [
      "The factorial of 7 is 5040\n"
     ]
    }
   ],
   "source": [
    "# Python program to find the factorial of a number using recursion\n",
    "\n",
    "def recur_factorial(n):\n",
    "   if n == 1:\n",
    "       return n\n",
    "   else:\n",
    "       return n*recur_factorial(n-1)\n",
    "\n",
    "num = 7\n",
    "\n",
    "if num < 0:\n",
    "   print(\"Sorry, factorial does not exist for negative numbers\")\n",
    "elif num == 0:\n",
    "   print(\"The factorial of 0 is 1\")\n",
    "else:\n",
    "   print(\"The factorial of\", num, \"is\", recur_factorial(num))"
   ]
  },
  {
   "cell_type": "raw",
   "id": "f0de7fa7-833f-4d1a-afda-5b5eb4f7d664",
   "metadata": {},
   "source": [
    "Write a Python Program to calculate your Body Mass Index?"
   ]
  },
  {
   "cell_type": "code",
   "execution_count": 5,
   "id": "a2d4c02a-999e-4ab2-8b7f-ca10263af93a",
   "metadata": {},
   "outputs": [
    {
     "name": "stdin",
     "output_type": "stream",
     "text": [
      "Please enter your height in inches:  72\n",
      "Please enter your weight in pound:  160.937\n"
     ]
    },
    {
     "name": "stdout",
     "output_type": "stream",
     "text": [
      "Your Body Mass Index is:  21.82\n",
      "Normal.\n"
     ]
    }
   ],
   "source": [
    "while True:\n",
    "    try:\n",
    "        # Taking user input\n",
    "        Height = float(input(\"Please enter your height in inches: \"))\n",
    "        Weight = float(input(\"Please enter your weight in pound: \"))\n",
    "    except ValueError:\n",
    "        # Validation error.\n",
    "        print(\"Please provide valid input.\")\n",
    "        continue  # Return to the start of the loop.\n",
    "    else:\n",
    "        if Height <= 0 or Weight <= 0:\n",
    "            print(\"Your input must not be zero or less.\")\n",
    "            continue\n",
    "        else:\n",
    "            # Calculate BMI\n",
    "            BMIIndex = round(Weight / (Height * Height) * 703, 2)\n",
    "            # Print the output\n",
    "            print(\"Your Body Mass Index is: \", BMIIndex)\n",
    "            if BMIIndex < 18.5:\n",
    "                print(\"Underweight.\")\n",
    "            elif BMIIndex <= 24.9:\n",
    "                print(\"Normal.\")\n",
    "            elif BMIIndex <= 29.9:\n",
    "                print(\"Overweight.\")\n",
    "            else:\n",
    "                print(\"Obese.\")\n",
    "            break"
   ]
  },
  {
   "cell_type": "code",
   "execution_count": null,
   "id": "751f612a-9d2d-4aed-a358-01eb8b608c4d",
   "metadata": {},
   "outputs": [],
   "source": [
    "Write a Python Program to calculate the natural logarithm of any number?"
   ]
  }
 ],
 "metadata": {
  "kernelspec": {
   "display_name": "Python 3 (ipykernel)",
   "language": "python",
   "name": "python3"
  },
  "language_info": {
   "codemirror_mode": {
    "name": "ipython",
    "version": 3
   },
   "file_extension": ".py",
   "mimetype": "text/x-python",
   "name": "python",
   "nbconvert_exporter": "python",
   "pygments_lexer": "ipython3",
   "version": "3.10.6"
  }
 },
 "nbformat": 4,
 "nbformat_minor": 5
}
