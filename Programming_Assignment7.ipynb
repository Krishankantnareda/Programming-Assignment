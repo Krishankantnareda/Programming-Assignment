{
 "cells": [
  {
   "cell_type": "raw",
   "id": "21c6ad35-bc5e-49db-946e-b23e7a4610ea",
   "metadata": {},
   "source": [
    "Write a Python Program to find sum of array?"
   ]
  },
  {
   "cell_type": "code",
   "execution_count": 3,
   "id": "69d60d93-86c6-4e7f-8696-4c5275ce5e9f",
   "metadata": {},
   "outputs": [],
   "source": [
    "def _sum(arr):\n",
    "    sum = 0\n",
    "    for i in arr:\n",
    "        sum = sum + i\n",
    " \n",
    "    return(sum)"
   ]
  },
  {
   "cell_type": "code",
   "execution_count": 4,
   "id": "c4a29156-0861-4ea6-8f58-7852b29b97c0",
   "metadata": {},
   "outputs": [
    {
     "data": {
      "text/plain": [
       "84"
      ]
     },
     "execution_count": 4,
     "metadata": {},
     "output_type": "execute_result"
    }
   ],
   "source": [
    "_sum([3,5,44,32])"
   ]
  },
  {
   "cell_type": "raw",
   "id": "a0d0a642-8c6c-4bb5-bf85-5998352cc9ab",
   "metadata": {},
   "source": [
    "Write a Python Program to find largest element in an array?"
   ]
  },
  {
   "cell_type": "code",
   "execution_count": 5,
   "id": "dc5100d2-dcaf-441f-ac6a-07794456c2dd",
   "metadata": {},
   "outputs": [],
   "source": [
    "def largest(arr, n):\n",
    "\n",
    "    max = arr[0]\n",
    "    for i in range(1, n):\n",
    "        if arr[i] > max:\n",
    "            max = arr[i]\n",
    "    return max"
   ]
  },
  {
   "cell_type": "code",
   "execution_count": 6,
   "id": "b9f47bae-0d4f-4ad3-8813-66478530431f",
   "metadata": {},
   "outputs": [
    {
     "data": {
      "text/plain": [
       "564"
      ]
     },
     "execution_count": 6,
     "metadata": {},
     "output_type": "execute_result"
    }
   ],
   "source": [
    "ar = [34,564,33,22,54]\n",
    "n = len(ar)\n",
    "largest(ar,n)"
   ]
  },
  {
   "cell_type": "raw",
   "id": "a5e7a5de-cea0-45b7-8e8e-689674948ff8",
   "metadata": {},
   "source": [
    "Write a Python Program for array rotation?"
   ]
  },
  {
   "cell_type": "code",
   "execution_count": 11,
   "id": "75d74b91-b49f-45ff-a334-1c1296740fa9",
   "metadata": {},
   "outputs": [
    {
     "name": "stdout",
     "output_type": "stream",
     "text": [
      "Rotated list is\n",
      "[5, 6, 7, 1, 2, 3, 4]\n"
     ]
    }
   ],
   "source": [
    "# List slicing approch to rotate the array\n",
    "def rotateArray(a,d):\n",
    "    n=len(a)\n",
    "    a[:]=a[d:n]+a[0:d]\n",
    "    return a\n",
    "\n",
    "arr = [1, 2, 3, 4, 5, 6, 7]\n",
    "\n",
    "print(\"Rotated list is\")\n",
    "print(rotateArray(arr,4)) "
   ]
  },
  {
   "cell_type": "raw",
   "id": "6ac08dff-2cf1-4e57-8a2f-d6bc0bbe4068",
   "metadata": {},
   "source": [
    "Write a Python Program to Split the array and add the first part to the end?"
   ]
  },
  {
   "cell_type": "code",
   "execution_count": 12,
   "id": "69b5320a-3297-4267-83ae-1b6524e50a7c",
   "metadata": {},
   "outputs": [],
   "source": [
    "def splitArr(a, n, k):\n",
    "    b = a[:k]\n",
    "    return (a[k::]+b[::])\n",
    " "
   ]
  },
  {
   "cell_type": "code",
   "execution_count": 20,
   "id": "57032610-a5f6-4b38-a99b-d0449c8bbcba",
   "metadata": {},
   "outputs": [
    {
     "name": "stdout",
     "output_type": "stream",
     "text": [
      "3 67 89 87 1 2 "
     ]
    }
   ],
   "source": [
    "arr = [1,2,3,67,89,87]\n",
    "n = len(arr)\n",
    "position = 2\n",
    "arr = splitArr(arr, n, position)\n",
    "for i in range(0, n):\n",
    "    print(arr[i], end=' ')"
   ]
  },
  {
   "cell_type": "raw",
   "id": "20c2dfe3-df03-4b4c-913c-32d590f3f119",
   "metadata": {},
   "source": [
    "Write a Python Program to check if given array is Monotonic?"
   ]
  },
  {
   "cell_type": "code",
   "execution_count": 21,
   "id": "5fe52ae8-3b81-41f3-86a3-665c5266d3d8",
   "metadata": {},
   "outputs": [],
   "source": [
    "def isMonotonic(A):\n",
    "    x, y = [], []\n",
    "    x.extend(A)\n",
    "    y.extend(A)\n",
    "    x.sort()\n",
    "    y.sort(reverse=True)\n",
    "    if(x == A or y == A):\n",
    "        return True\n",
    "    return False\n"
   ]
  },
  {
   "cell_type": "code",
   "execution_count": 22,
   "id": "098cc660-1459-4bd0-9229-3d8b9d11998d",
   "metadata": {},
   "outputs": [
    {
     "name": "stdout",
     "output_type": "stream",
     "text": [
      "True\n"
     ]
    }
   ],
   "source": [
    "A = [6, 5, 4, 4]\n",
    " \n",
    "# Print required result\n",
    "print(isMonotonic(A))"
   ]
  },
  {
   "cell_type": "code",
   "execution_count": 23,
   "id": "0860b1ae-880c-409c-bcf4-dc26c76f599b",
   "metadata": {},
   "outputs": [
    {
     "name": "stdout",
     "output_type": "stream",
     "text": [
      "False\n"
     ]
    }
   ],
   "source": [
    "A = [5, 15, 20, 10]\n",
    "print(isMonotonic(A))"
   ]
  }
 ],
 "metadata": {
  "kernelspec": {
   "display_name": "Python 3 (ipykernel)",
   "language": "python",
   "name": "python3"
  },
  "language_info": {
   "codemirror_mode": {
    "name": "ipython",
    "version": 3
   },
   "file_extension": ".py",
   "mimetype": "text/x-python",
   "name": "python",
   "nbconvert_exporter": "python",
   "pygments_lexer": "ipython3",
   "version": "3.10.6"
  }
 },
 "nbformat": 4,
 "nbformat_minor": 5
}
