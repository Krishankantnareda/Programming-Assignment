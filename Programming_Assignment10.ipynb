{
 "cells": [
  {
   "cell_type": "raw",
   "id": "431db3eb-49e5-4e53-9cb6-e5569d14ea7f",
   "metadata": {},
   "source": [
    "1. Write a Python program to find sum of elements in list?"
   ]
  },
  {
   "cell_type": "code",
   "execution_count": 6,
   "id": "5cf9b855-d65e-4586-983d-e297f6dd0b88",
   "metadata": {},
   "outputs": [
    {
     "name": "stdout",
     "output_type": "stream",
     "text": [
      "Sum of all elements in given list:  76\n"
     ]
    }
   ],
   "source": [
    "total = 0\n",
    "\n",
    "# creating a list\n",
    "list1 = [11, 5, 19, 18, 23]\n",
    "\n",
    "for ele in range(0, len(list1)):\n",
    "\ttotal = total + list1[ele]\n",
    "\n",
    "# printing total value\n",
    "print(\"Sum of all elements in given list: \", total)\n"
   ]
  },
  {
   "cell_type": "raw",
   "id": "de121362-9752-478f-9db0-b0b66aa3aa69",
   "metadata": {},
   "source": [
    "2. Write a Python program to Multiply all numbers in the list?"
   ]
  },
  {
   "cell_type": "code",
   "execution_count": 7,
   "id": "eacddf76-531b-491e-bb94-d57386473e66",
   "metadata": {},
   "outputs": [
    {
     "name": "stdout",
     "output_type": "stream",
     "text": [
      "72\n",
      "24\n"
     ]
    }
   ],
   "source": [
    "def multiplyList(myList):\n",
    "\n",
    "\t# Multiply elements one by one\n",
    "\tresult = 1\n",
    "\tfor x in myList:\n",
    "\t\tresult = result * x\n",
    "\treturn result\n",
    "\n",
    "\n",
    "# Driver code\n",
    "list1 = [1, 24, 3]\n",
    "list2 = [3, 2, 4]\n",
    "print(multiplyList(list1))\n",
    "print(multiplyList(list2))\n"
   ]
  },
  {
   "cell_type": "raw",
   "id": "2b8dfdcb-a581-4a8a-8738-ae3d8552af7f",
   "metadata": {},
   "source": [
    "3. Write a Python program to find smallest number in a list?"
   ]
  },
  {
   "cell_type": "code",
   "execution_count": 8,
   "id": "756747a8-8be6-4ab7-9e45-ced31b74631d",
   "metadata": {},
   "outputs": [
    {
     "name": "stdout",
     "output_type": "stream",
     "text": [
      "Smallest element is: 4\n"
     ]
    }
   ],
   "source": [
    "# Python program to find smallest\n",
    "# number in a list\n",
    "\n",
    "# list of numbers\n",
    "list1 = [10, 20, 4, 45, 99]\n",
    "\n",
    "# sorting the list\n",
    "list1.sort()\n",
    "\n",
    "# printing the first element\n",
    "print(\"Smallest element is:\", list1[0])\n"
   ]
  },
  {
   "cell_type": "raw",
   "id": "1dbea704-70b9-4947-83bb-3346407a2460",
   "metadata": {},
   "source": [
    "4. Write a Python program to find largest number in a list?"
   ]
  },
  {
   "cell_type": "code",
   "execution_count": 9,
   "id": "6c8d6514-3d94-40f9-acb8-b33b51be2ec5",
   "metadata": {},
   "outputs": [
    {
     "name": "stdout",
     "output_type": "stream",
     "text": [
      "Largest element is: 99\n"
     ]
    }
   ],
   "source": [
    "# Python program to find largest\n",
    "# number in a list\n",
    "\n",
    "# list of numbers\n",
    "list1 = [10, 20, 4, 45, 99]\n",
    "\n",
    "# sorting the list\n",
    "list1.sort()\n",
    "\n",
    "# printing the last element\n",
    "print(\"Largest element is:\", list1[-1])\n"
   ]
  },
  {
   "cell_type": "raw",
   "id": "429fdcc5-50f9-4568-a21d-f359ab1bdc5f",
   "metadata": {},
   "source": [
    "5. Write a Python program to find second largest number in a list?"
   ]
  },
  {
   "cell_type": "code",
   "execution_count": 11,
   "id": "ab561b65-7797-432e-b692-284cd1ee982c",
   "metadata": {},
   "outputs": [
    {
     "name": "stdout",
     "output_type": "stream",
     "text": [
      "Second highest number is :  45\n"
     ]
    }
   ],
   "source": [
    "list1 = [10, 20, 4, 45, 99]\n",
    "\n",
    "mx = max(list1[0], list1[1])\n",
    "secondmax = min(list1[0], list1[1])\n",
    "n = len(list1)\n",
    "for i in range(2,n):\n",
    "\tif list1[i] > mx:\n",
    "\t\tsecondmax = mx\n",
    "\t\tmx = list1[i]\n",
    "\telif list1[i] > secondmax and \\\n",
    "\t\tmx != list1[i]:\n",
    "\t\tsecondmax = list1[i]\n",
    "\telif mx == secondmax and \\\n",
    "\t\tsecondmax != list1[i]:\n",
    "\t\tsecondmax = list1[i]\n",
    "\n",
    "print(\"Second highest number is : \",\\\n",
    "\tstr(secondmax))\n"
   ]
  },
  {
   "cell_type": "raw",
   "id": "a0986aeb-0fe4-4e47-82c7-9ee4297d04f0",
   "metadata": {},
   "source": [
    "6. Write a Python program to find N largest elements from a list?"
   ]
  },
  {
   "cell_type": "code",
   "execution_count": 12,
   "id": "b7e91ae0-a655-4acb-8740-c64428beabb2",
   "metadata": {},
   "outputs": [
    {
     "name": "stdout",
     "output_type": "stream",
     "text": [
      "[85, 41]\n"
     ]
    }
   ],
   "source": [
    "# Python program to find N largest\n",
    "# element from given list of integers\n",
    "\n",
    "# Function returns N largest elements\n",
    "\n",
    "\n",
    "def Nmaxelements(list1, N):\n",
    "\tfinal_list = []\n",
    "\n",
    "\tfor i in range(0, N):\n",
    "\t\tmax1 = 0\n",
    "\n",
    "\t\tfor j in range(len(list1)):\n",
    "\t\t\tif list1[j] > max1:\n",
    "\t\t\t\tmax1 = list1[j]\n",
    "\n",
    "\t\tlist1.remove(max1)\n",
    "\t\tfinal_list.append(max1)\n",
    "\n",
    "\tprint(final_list)\n",
    "\n",
    "\n"
   ]
  },
  {
   "cell_type": "raw",
   "id": "5e2922f7-7496-4422-a6a3-fbb79d036ccc",
   "metadata": {},
   "source": [
    "7. Write a Python program to print even numbers in a list?"
   ]
  },
  {
   "cell_type": "code",
   "execution_count": null,
   "id": "03a4bc3b-2bcf-4a91-a1da-c75a4b44e36e",
   "metadata": {},
   "outputs": [],
   "source": [
    "# Python program to print Even Numbers in a List\n",
    "\n",
    "# list of numbers\n",
    "list1 = [10, 21, 4, 45, 66, 93]\n",
    "\n",
    "# iterating each number in list\n",
    "for num in list1:\n",
    "\n",
    "\t# checking condition\n",
    "\tif num % 2 == 0:\n",
    "\t\tprint(num, end=\" \")\n"
   ]
  },
  {
   "cell_type": "raw",
   "id": "bb53c959-0aa6-4fde-8c25-42294396d720",
   "metadata": {},
   "source": [
    "8. Write a Python program to print odd numbers in a List?"
   ]
  },
  {
   "cell_type": "code",
   "execution_count": null,
   "id": "790e42c3-072a-467b-adf3-7ee09bba125f",
   "metadata": {},
   "outputs": [],
   "source": [
    "# Python program to print odd Numbers in a List\n",
    "\n",
    "# list of numbers\n",
    "list1 = [10, 21, 4, 45, 66, 93]\n",
    "\n",
    "# iterating each number in list\n",
    "for num in list1:\n",
    "\n",
    "\t# checking condition\n",
    "\tif num % 2 != 0:\n",
    "\tprint(num, end=\" \")\n"
   ]
  },
  {
   "cell_type": "raw",
   "id": "4d0213cf-2fce-4496-9588-3d1e5e04b005",
   "metadata": {},
   "source": [
    "9. Write a Python program to Remove empty List from List?"
   ]
  },
  {
   "cell_type": "code",
   "execution_count": null,
   "id": "79e370e7-4f03-4f27-a224-af88edc961bd",
   "metadata": {},
   "outputs": [],
   "source": [
    "# Python3 code to Demonstrate Remove empty List\n",
    "# from List using list comprehension\n",
    "\n",
    "# Initializing list\n",
    "test_list = [5, 6, [], 3, [], [], 9]\n",
    "\n",
    "# printing original list\n",
    "print(\"The original list is : \" + str(test_list))\n",
    "\n",
    "# Remove empty List from List\n",
    "# using list comprehension\n",
    "res = [ele for ele in test_list if ele != []]\n",
    "\n",
    "# printing result\n",
    "print(\"List after empty list removal : \" + str(res))\n"
   ]
  },
  {
   "cell_type": "raw",
   "id": "73ad4604-a6ef-4fa6-9ab9-6f982e25eb0e",
   "metadata": {},
   "source": [
    "10. Write a Python program to Cloning or Copying a list?"
   ]
  },
  {
   "cell_type": "code",
   "execution_count": null,
   "id": "5304c931-cb19-407a-916f-20be0f009627",
   "metadata": {},
   "outputs": [],
   "source": [
    "# Python program to copy or clone a list\n",
    "# Using the Slice Operator\n",
    "def Cloning(li1):\n",
    "\tli_copy = li1[:]\n",
    "\treturn li_copy\n",
    "\n",
    "\n",
    "# Driver Code\n",
    "li1 = [4, 8, 2, 10, 15, 18]\n",
    "li2 = Cloning(li1)\n",
    "print(\"Original List:\", li1)\n",
    "print(\"After Cloning:\", li2)\n"
   ]
  },
  {
   "cell_type": "raw",
   "id": "6ca4252f-4c19-4128-842a-a896068913bb",
   "metadata": {},
   "source": [
    "11. Write a Python program to Count occurrences of an element in a list?"
   ]
  },
  {
   "cell_type": "code",
   "execution_count": null,
   "id": "83047cb4-8dc4-44dc-8d6e-076e1fec09b3",
   "metadata": {},
   "outputs": [],
   "source": [
    "# Python code to count the number of occurrences\n",
    "def countX(lst, x):\n",
    "\tcount = 0\n",
    "\tfor ele in lst:\n",
    "\t\tif (ele == x):\n",
    "\t\t\tcount = count + 1\n",
    "\treturn count\n",
    "\n",
    "\n",
    "# Driver Code\n",
    "lst = [8, 6, 8, 10, 8, 20, 10, 8, 8]\n",
    "x = 8\n",
    "print('{} has occurred {} times'.format(x,\n",
    "\t\t\t\t\t\t\t\t\t\tcountX(lst, x)))\n"
   ]
  }
 ],
 "metadata": {
  "kernelspec": {
   "display_name": "Python 3 (ipykernel)",
   "language": "python",
   "name": "python3"
  },
  "language_info": {
   "codemirror_mode": {
    "name": "ipython",
    "version": 3
   },
   "file_extension": ".py",
   "mimetype": "text/x-python",
   "name": "python",
   "nbconvert_exporter": "python",
   "pygments_lexer": "ipython3",
   "version": "3.10.6"
  }
 },
 "nbformat": 4,
 "nbformat_minor": 5
}
