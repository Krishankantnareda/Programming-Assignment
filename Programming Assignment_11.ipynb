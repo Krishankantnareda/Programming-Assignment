{
 "cells": [
  {
   "cell_type": "code",
   "execution_count": 12,
   "id": "255e28c8",
   "metadata": {},
   "outputs": [
    {
     "name": "stdout",
     "output_type": "stream",
     "text": [
      "enter the number5\n",
      "enter the stringhello\n",
      "enter the stringhow\n",
      "enter the stringare\n",
      "enter the stringuuuuuuuuu\n",
      "enter the stringniceeeeeeeeee\n"
     ]
    },
    {
     "data": {
      "text/plain": [
       "['uuuuuuuuu', 'niceeeeeeeeee']"
      ]
     },
     "execution_count": 12,
     "metadata": {},
     "output_type": "execute_result"
    }
   ],
   "source": [
    "k = int(input(\"enter the number\"))\n",
    "l = []\n",
    "for i in range(5):\n",
    "    n = input(\"enter the string\")\n",
    "    l.append(n)\n",
    "l\n",
    "m = []\n",
    "for j in l:\n",
    "    if len(j)>k:\n",
    "        \n",
    "        m.append(j)\n",
    "m\n"
   ]
  },
  {
   "cell_type": "code",
   "execution_count": 18,
   "id": "68e3ffa7",
   "metadata": {},
   "outputs": [
    {
     "name": "stdout",
     "output_type": "stream",
     "text": [
      "enter the number4\n"
     ]
    },
    {
     "data": {
      "text/plain": [
       "'hell how r u'"
      ]
     },
     "execution_count": 18,
     "metadata": {},
     "output_type": "execute_result"
    }
   ],
   "source": [
    "i = int(input(\"enter the number\"))\n",
    "s = \"hello how r u\"\n",
    "string = s.replace(s[i],\"\",1) # the 1 at the end indicates replacing the  first occurrence of the word s[i] for eg - if u give i as 7\n",
    "# it will replace all the o including at position 4 even tough we have declared i as 7 so if we declare 1 it means only one occurence \n",
    "# if we declare 2 it means 2 occurence i.e i at 7th and 4th position will be removed\n",
    "string\n",
    "            \n"
   ]
  },
  {
   "cell_type": "code",
   "execution_count": 21,
   "id": "b6def562",
   "metadata": {},
   "outputs": [
    {
     "data": {
      "text/plain": [
       "'hello-how-r-u'"
      ]
     },
     "execution_count": 21,
     "metadata": {},
     "output_type": "execute_result"
    }
   ],
   "source": [
    "x = \"hello how r u\"\n",
    "y = x.split(\" \")\n",
    "stringg = '-'.join(y)\n",
    "stringg"
   ]
  },
  {
   "cell_type": "code",
   "execution_count": 22,
   "id": "5e185ce0",
   "metadata": {},
   "outputs": [
    {
     "name": "stdout",
     "output_type": "stream",
     "text": [
      "Yes\n"
     ]
    }
   ],
   "source": [
    "def check(string):\n",
    " \n",
    "    # set function convert string\n",
    "    # into set of characters .\n",
    "    p = set(string)\n",
    " \n",
    "    # declare set of '0', '1' .\n",
    "    s = {'0', '1'}\n",
    " \n",
    "    # check set p is same as set s\n",
    "    # or set p contains only '0'\n",
    "    # or set p contains only '1'\n",
    "    # or not, if any one condition\n",
    "    # is true then string is accepted\n",
    "    # otherwise not .\n",
    "    if s == p or p == {'0'} or p == {'1'}:\n",
    "        print(\"Yes\")\n",
    "    else:\n",
    "        print(\"No\")\n",
    " \n",
    " \n",
    "# driver code\n",
    "if __name__ == \"__main__\":\n",
    " \n",
    "    string = \"101010000111\"\n",
    " \n",
    "    # function calling\n",
    "    check(string)"
   ]
  },
  {
   "cell_type": "code",
   "execution_count": 54,
   "id": "4414474f",
   "metadata": {},
   "outputs": [
    {
     "name": "stdout",
     "output_type": "stream",
     "text": [
      "None\n",
      "None\n",
      "None\n"
     ]
    },
    {
     "data": {
      "text/plain": [
       "['r', 'do', 'do']"
      ]
     },
     "execution_count": 54,
     "metadata": {},
     "output_type": "execute_result"
    }
   ],
   "source": [
    "x = \"hello how r u\"\n",
    "y = \"hello how do u do\"\n",
    "a = x.split()\n",
    "b = y.split()\n",
    "l=[]\n",
    "a,b\n",
    "for i in a:\n",
    "    if i not in b:\n",
    "        print (l.append(i))\n",
    "for j in b:\n",
    "    if j not in a:\n",
    "        print (l.append(j))\n",
    "l\n",
    "    \n",
    "         \n"
   ]
  },
  {
   "cell_type": "code",
   "execution_count": 58,
   "id": "a25d1fe4",
   "metadata": {},
   "outputs": [
    {
     "data": {
      "text/plain": [
       "Counter({'h': 2, 'e': 1, 'l': 2, 'o': 2, 'w': 1, 'r': 1, 'u': 1})"
      ]
     },
     "execution_count": 58,
     "metadata": {},
     "output_type": "execute_result"
    }
   ],
   "source": [
    "from collections import Counter\n",
    "z = \"hellohowru\"\n",
    "c = Counter(z)\n",
    "c\n",
    "\n",
    "\n"
   ]
  },
  {
   "cell_type": "code",
   "execution_count": 49,
   "id": "57e5e302",
   "metadata": {},
   "outputs": [
    {
     "data": {
      "text/plain": [
       "10"
      ]
     },
     "execution_count": 49,
     "metadata": {},
     "output_type": "execute_result"
    }
   ],
   "source": [
    "z = \"hellohowru\"\n",
    "len(z)   "
   ]
  },
  {
   "cell_type": "code",
   "execution_count": 77,
   "id": "054bb17d",
   "metadata": {},
   "outputs": [
    {
     "name": "stdout",
     "output_type": "stream",
     "text": [
      "the string is not accepted as it contains soecial charectes\n"
     ]
    }
   ],
   "source": [
    "n = \"hello$$kpxsax]\"\n",
    "n.split()\n",
    "s='[@_!#$%^&*()<>?/\\|}{~:]'\n",
    "count =0\n",
    "for i in range (len(n)):\n",
    "    \n",
    "    if n[i] in s:\n",
    "        count = count +1\n",
    "       \n",
    "if count:\n",
    "    print(\"the string is not accepted as it contains soecial charectes\")\n",
    "else:\n",
    "    print(\"the string is  accepted\")\n",
    "    "
   ]
  },
  {
   "cell_type": "code",
   "execution_count": null,
   "id": "e71cfca4",
   "metadata": {},
   "outputs": [],
   "source": []
  }
 ],
 "metadata": {
  "kernelspec": {
   "display_name": "Python 3 (ipykernel)",
   "language": "python",
   "name": "python3"
  },
  "language_info": {
   "codemirror_mode": {
    "name": "ipython",
    "version": 3
   },
   "file_extension": ".py",
   "mimetype": "text/x-python",
   "name": "python",
   "nbconvert_exporter": "python",
   "pygments_lexer": "ipython3",
   "version": "3.9.7"
  }
 },
 "nbformat": 4,
 "nbformat_minor": 5
}
