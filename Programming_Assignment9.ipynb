{
 "cells": [
  {
   "cell_type": "raw",
   "id": "1f3c4a6c-7431-46fa-9785-11f0f38f9c1e",
   "metadata": {},
   "source": [
    "Write a Python program to check if the given number is a Disarium Number?"
   ]
  },
  {
   "cell_type": "code",
   "execution_count": 7,
   "id": "7a61148e-57f6-41a0-9fc1-13493689d3d9",
   "metadata": {},
   "outputs": [
    {
     "name": "stdout",
     "output_type": "stream",
     "text": [
      "175 is a disarium number\n"
     ]
    }
   ],
   "source": [
    "#calculateLength() will count the digits present in a number    \n",
    "def calculateLength(n):    \n",
    "    length = 0;    \n",
    "    while(n != 0):    \n",
    "        length = length + 1;    \n",
    "        n = n//10;    \n",
    "    return length;    \n",
    "     \n",
    "num = 175;    \n",
    "rem = sum = 0;    \n",
    "len = calculateLength(num);    \n",
    "     \n",
    "#Makes a copy of the original number num    \n",
    "n = num;    \n",
    "     \n",
    "#Calculates the sum of digits powered with their respective position    \n",
    "while(num > 0):    \n",
    "    rem = num%10;    \n",
    "    sum = sum + int(rem**len);    \n",
    "    num = num//10;    \n",
    "    len = len - 1;    \n",
    "     \n",
    "#Checks whether the sum is equal to the number itself    \n",
    "if(sum == n):    \n",
    "    print(str(n) + \" is a disarium number\");    \n",
    "else:    \n",
    "    print(str(n) + \" is not a disarium number\");    "
   ]
  },
  {
   "cell_type": "raw",
   "id": "c7471369-b1e0-40bb-afdb-c668fae49208",
   "metadata": {},
   "source": [
    "Write a Python program to print all disarium numbers between 1 to 100?"
   ]
  },
  {
   "cell_type": "code",
   "execution_count": 8,
   "id": "953c295e-3380-4140-af14-6bda2e8dc308",
   "metadata": {},
   "outputs": [
    {
     "name": "stdout",
     "output_type": "stream",
     "text": [
      "Disarium numbers between 1 and 100 are\n",
      "1\n",
      "2\n",
      "3\n",
      "4\n",
      "5\n",
      "6\n",
      "7\n",
      "8\n",
      "9\n",
      "89\n"
     ]
    }
   ],
   "source": [
    "#calculateLength() will count the digits present in a number    \n",
    "def calculateLength(n):    \n",
    "    length = 0;    \n",
    "    while(n != 0):    \n",
    "        length = length + 1;    \n",
    "        n = n//10;    \n",
    "    return length;    \n",
    "     \n",
    "#sumOfDigits() will calculates the sum of digits powered with their respective position    \n",
    "def sumOfDigits(num):    \n",
    "    rem = sum = 0;    \n",
    "    len = calculateLength(num);    \n",
    "        \n",
    "    while(num > 0):    \n",
    "        rem = num%10;    \n",
    "        sum = sum + (rem**len);    \n",
    "        num = num//10;    \n",
    "        len = len - 1;    \n",
    "    return sum;    \n",
    "      \n",
    "result = 0;    \n",
    "     \n",
    "#Displays all disarium numbers between 1 and 100    \n",
    "print(\"Disarium numbers between 1 and 100 are\");    \n",
    "for i in range(1, 101):    \n",
    "    result = sumOfDigits(i);    \n",
    "        \n",
    "    if(result == i):    \n",
    "        print(i), "
   ]
  },
  {
   "cell_type": "raw",
   "id": "7a56511b-d8dc-46ec-b093-e478cbd55300",
   "metadata": {},
   "source": [
    "3. Write a Python program to check if the given number is Happy Number?"
   ]
  },
  {
   "cell_type": "code",
   "execution_count": 17,
   "id": "0fb6ada2-df5d-4d44-8b49-8b629bdf8796",
   "metadata": {},
   "outputs": [
    {
     "name": "stdout",
     "output_type": "stream",
     "text": [
      "82 is a happy number\n"
     ]
    }
   ],
   "source": [
    "#isHappyNumber() will determine whether a number is happy or not    \n",
    "def isHappyNumber(num):    \n",
    "    rem = sum = 0;    \n",
    "        \n",
    "    #Calculates the sum of squares of digits    \n",
    "    while(num > 0):    \n",
    "        rem = num%10;    \n",
    "        sum = sum + (rem*rem);    \n",
    "        num = num//10;    \n",
    "    return sum;    \n",
    "        \n",
    "num = 82;    \n",
    "result = num;    \n",
    "     \n",
    "while(result != 1 and result != 4):    \n",
    "    result = isHappyNumber(result);    \n",
    "     \n",
    "#Happy number always ends with 1    \n",
    "if(result == 1):    \n",
    "    print(str(num) + \" is a happy number\");    \n",
    "#Unhappy number ends in a cycle of repeating numbers which contain 4    \n",
    "elif(result == 4):    \n",
    "    print(str(num) + \" is not a happy number\");   \n"
   ]
  },
  {
   "cell_type": "raw",
   "id": "4cc56286-d8fc-46cc-b227-c78f11d16dd1",
   "metadata": {},
   "source": [
    "4. Write a Python program to print all happy numbers between 1 and 100?"
   ]
  },
  {
   "cell_type": "code",
   "execution_count": 18,
   "id": "98034015-9d23-44ee-990a-1bd8faf1ed7b",
   "metadata": {},
   "outputs": [
    {
     "name": "stdout",
     "output_type": "stream",
     "text": [
      "The list of happy numbers between 1 and 100 are : \n",
      "1\n",
      "7\n",
      "10\n",
      "13\n",
      "19\n",
      "23\n",
      "28\n",
      "31\n",
      "32\n",
      "44\n",
      "49\n",
      "68\n",
      "70\n",
      "79\n",
      "82\n",
      "86\n",
      "91\n",
      "94\n",
      "97\n",
      "100\n"
     ]
    }
   ],
   "source": [
    "def check_happy_num(my_num):\n",
    "    remaining = sum_val = 0\n",
    "    while(my_num > 0):\n",
    "        remaining = my_num%10\n",
    "        sum_val = sum_val + (remaining*remaining)\n",
    "        my_num = my_num//10\n",
    "    return sum_val\n",
    "print(\"The list of happy numbers between 1 and 100 are : \")\n",
    "for i in range(1, 101):\n",
    "    my_result = i\n",
    "    while(my_result != 1 and my_result != 4):\n",
    "        my_result = check_happy_num(my_result)\n",
    "    if(my_result == 1):\n",
    "        print(i)"
   ]
  },
  {
   "cell_type": "raw",
   "id": "777ceef9-7b27-487a-9ef0-0b763019dd7b",
   "metadata": {},
   "source": [
    "Write a Python program to determine whether the given number is a Harshad Number?"
   ]
  },
  {
   "cell_type": "code",
   "execution_count": 20,
   "id": "78e9867b-cbab-4bad-a4e8-f2bf30bc5063",
   "metadata": {},
   "outputs": [
    {
     "name": "stdin",
     "output_type": "stream",
     "text": [
      "Enter the Number to Check Harshad Number =  156\n"
     ]
    },
    {
     "name": "stdout",
     "output_type": "stream",
     "text": [
      "The Sum of the Digits = 12\n",
      "\n",
      "156 is a Harshad Number.\n"
     ]
    }
   ],
   "source": [
    "Number = int(input(\"Enter the Number to Check Harshad Number = \"))\n",
    "Sum = 0\n",
    "rem = 0\n",
    "\n",
    "Temp = Number\n",
    "while Temp > 0:\n",
    "    rem = Temp % 10\n",
    "    Sum = Sum + rem\n",
    "    Temp = Temp // 10\n",
    "\n",
    "print(\"The Sum of the Digits = %d\" %Sum)\n",
    "\n",
    "if Number % Sum == 0:\n",
    "    print(\"\\n%d is a Harshad Number.\" %Number)\n",
    "else:\n",
    "    print(\"%d is Not a Harshad Number.\" %Number)"
   ]
  },
  {
   "cell_type": "raw",
   "id": "a1c140c5-76dc-4118-9e56-534a0f12772f",
   "metadata": {},
   "source": [
    "6. Write a Python program to print all pronic numbers between 1 and 100?"
   ]
  }
 ],
 "metadata": {
  "kernelspec": {
   "display_name": "Python 3 (ipykernel)",
   "language": "python",
   "name": "python3"
  },
  "language_info": {
   "codemirror_mode": {
    "name": "ipython",
    "version": 3
   },
   "file_extension": ".py",
   "mimetype": "text/x-python",
   "name": "python",
   "nbconvert_exporter": "python",
   "pygments_lexer": "ipython3",
   "version": "3.10.6"
  }
 },
 "nbformat": 4,
 "nbformat_minor": 5
}
