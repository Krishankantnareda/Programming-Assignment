{
 "cells": [
  {
   "cell_type": "code",
   "execution_count": 33,
   "id": "e04231ce",
   "metadata": {},
   "outputs": [
    {
     "name": "stdout",
     "output_type": "stream",
     "text": [
      "enter a numnber100\n",
      "0\n",
      "35\n",
      "70\n"
     ]
    }
   ],
   "source": [
    "#1\n",
    "def gen(n):\n",
    "    i = 0\n",
    "    for i in range(n):\n",
    "        if i%7 ==0 and i%5 ==0:\n",
    "            yield i\n",
    "           \n",
    "            \n",
    "       \n",
    "            \n",
    "           \n",
    "\n",
    "n = int(input(\"enter a numnber\"))\n",
    "l = []\n",
    "s = gen(n)\n",
    "print(next(s))\n",
    "print(next(s))\n",
    "print(next(s))\n",
    "\n",
    "\n",
    "\n"
   ]
  },
  {
   "cell_type": "code",
   "execution_count": 37,
   "id": "5d39535d",
   "metadata": {},
   "outputs": [
    {
     "name": "stdout",
     "output_type": "stream",
     "text": [
      "enter a numnber100\n",
      "0\n",
      "2\n",
      "4\n",
      "6\n",
      "8\n",
      "10\n",
      "12\n",
      "14\n",
      "16\n",
      "18\n",
      "20\n",
      "22\n",
      "24\n",
      "26\n",
      "28\n",
      "30\n",
      "32\n",
      "34\n",
      "36\n",
      "38\n",
      "40\n",
      "42\n",
      "44\n",
      "46\n",
      "48\n",
      "50\n",
      "52\n",
      "54\n",
      "56\n",
      "58\n",
      "60\n",
      "62\n",
      "64\n",
      "66\n",
      "68\n",
      "70\n",
      "72\n",
      "74\n",
      "76\n",
      "78\n",
      "80\n",
      "82\n",
      "84\n",
      "86\n",
      "88\n",
      "90\n",
      "92\n",
      "94\n",
      "96\n",
      "98\n"
     ]
    },
    {
     "ename": "StopIteration",
     "evalue": "",
     "output_type": "error",
     "traceback": [
      "\u001b[1;31m---------------------------------------------------------------------------\u001b[0m",
      "\u001b[1;31mStopIteration\u001b[0m                             Traceback (most recent call last)",
      "\u001b[1;32m~\\AppData\\Local\\Temp/ipykernel_20228/3784057799.py\u001b[0m in \u001b[0;36m<module>\u001b[1;34m\u001b[0m\n\u001b[0;32m     10\u001b[0m \u001b[0ms\u001b[0m \u001b[1;33m=\u001b[0m \u001b[0meven\u001b[0m\u001b[1;33m(\u001b[0m\u001b[0mn\u001b[0m\u001b[1;33m)\u001b[0m\u001b[1;33m\u001b[0m\u001b[1;33m\u001b[0m\u001b[0m\n\u001b[0;32m     11\u001b[0m \u001b[1;32mfor\u001b[0m \u001b[0mj\u001b[0m \u001b[1;32min\u001b[0m \u001b[0mrange\u001b[0m\u001b[1;33m(\u001b[0m\u001b[0mn\u001b[0m\u001b[1;33m)\u001b[0m\u001b[1;33m:\u001b[0m\u001b[1;33m\u001b[0m\u001b[1;33m\u001b[0m\u001b[0m\n\u001b[1;32m---> 12\u001b[1;33m     \u001b[0mprint\u001b[0m\u001b[1;33m(\u001b[0m\u001b[0mnext\u001b[0m\u001b[1;33m(\u001b[0m\u001b[0ms\u001b[0m\u001b[1;33m)\u001b[0m\u001b[1;33m)\u001b[0m\u001b[1;33m\u001b[0m\u001b[1;33m\u001b[0m\u001b[0m\n\u001b[0m\u001b[0;32m     13\u001b[0m \u001b[1;33m\u001b[0m\u001b[0m\n\u001b[0;32m     14\u001b[0m \u001b[1;33m\u001b[0m\u001b[0m\n",
      "\u001b[1;31mStopIteration\u001b[0m: "
     ]
    }
   ],
   "source": [
    "#2\n",
    "def even(n):\n",
    "    \n",
    "    \n",
    "    for i in range(n):\n",
    "        if i%2 ==0:\n",
    "            yield i\n",
    "            \n",
    "n = int(input(\"enter a numnber\"))\n",
    "\n",
    "s = even(n)\n",
    "for j in range(n):\n",
    "    print(next(s))\n",
    "            \n",
    "        \n",
    "           \n",
    "            \n",
    "       "
   ]
  },
  {
   "cell_type": "code",
   "execution_count": 47,
   "id": "09f3ca73",
   "metadata": {},
   "outputs": [
    {
     "name": "stdout",
     "output_type": "stream",
     "text": [
      "34\n"
     ]
    }
   ],
   "source": [
    "#3\n",
    "def Fibonacci(n):\n",
    "    \n",
    "\n",
    "\n",
    "    if n < 0:\n",
    "        print(\"Incorrect input\")\n",
    "\n",
    "\n",
    "    elif n == 0:\n",
    "        \n",
    "        \n",
    "        return 0\n",
    "    elif n == 1 or n == 2:\n",
    "        \n",
    "        return 1\n",
    "\n",
    "    else:\n",
    "        \n",
    "        return Fibonacci(n-1) + Fibonacci(n-2)\n",
    "\n",
    "print(Fibonacci(9))\n",
    "\n"
   ]
  },
  {
   "cell_type": "code",
   "execution_count": 61,
   "id": "25df80c9",
   "metadata": {},
   "outputs": [
    {
     "name": "stdout",
     "output_type": "stream",
     "text": [
      "enter ur email iddebo@gmail.com\n"
     ]
    },
    {
     "data": {
      "text/plain": [
       "'debo'"
      ]
     },
     "execution_count": 61,
     "metadata": {},
     "output_type": "execute_result"
    }
   ],
   "source": [
    "#4\n",
    "n =input(\"enter ur email id\")\n",
    "l = []\n",
    "for i in n:\n",
    "    if i == '@':\n",
    "        break\n",
    "    else:\n",
    "        \n",
    "        \n",
    "        l.append(i)\n",
    "s =\"\"\n",
    "s = s.join(l)\n",
    "s    \n",
    "\n",
    "\n",
    "    "
   ]
  },
  {
   "cell_type": "code",
   "execution_count": 74,
   "id": "a27a8b19",
   "metadata": {},
   "outputs": [
    {
     "name": "stdout",
     "output_type": "stream",
     "text": [
      "100\n"
     ]
    }
   ],
   "source": [
    "#5\n",
    "class shape:\n",
    "    areaa = 0\n",
    "    def area(self):\n",
    "        pass\n",
    "         \n",
    "    def area(self):\n",
    "        return 0\n",
    "       \n",
    "        \n",
    "        \n",
    "class square(shape):\n",
    "    def __init__(self,l):\n",
    "        self.length=l\n",
    "        \n",
    "    def area(self):\n",
    "        return self.length*self.length\n",
    "       \n",
    "obj = square(10)\n",
    "print(obj.area())\n"
   ]
  },
  {
   "cell_type": "code",
   "execution_count": null,
   "id": "ff46d654",
   "metadata": {},
   "outputs": [],
   "source": []
  }
 ],
 "metadata": {
  "kernelspec": {
   "display_name": "Python 3 (ipykernel)",
   "language": "python",
   "name": "python3"
  },
  "language_info": {
   "codemirror_mode": {
    "name": "ipython",
    "version": 3
   },
   "file_extension": ".py",
   "mimetype": "text/x-python",
   "name": "python",
   "nbconvert_exporter": "python",
   "pygments_lexer": "ipython3",
   "version": "3.9.7"
  }
 },
 "nbformat": 4,
 "nbformat_minor": 5
}
